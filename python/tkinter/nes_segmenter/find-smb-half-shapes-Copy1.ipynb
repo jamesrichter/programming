{
 "cells": [
  {
   "cell_type": "code",
   "execution_count": 2,
   "metadata": {},
   "outputs": [
    {
     "name": "stdout",
     "output_type": "stream",
     "text": [
      "template60.npy\n",
      "template55.npy\n",
      "template31.npy\n",
      "template70.npy\n",
      "template69.npy\n",
      "template17.npy\n",
      "template57.npy\n",
      "template27.npy\n",
      "template51.npy\n",
      "template40.npy\n",
      "template45.npy\n",
      "template47.npy\n",
      "template65.npy\n",
      "template32.npy\n",
      "template9.npy\n",
      "template33.npy\n",
      "template52.npy\n",
      "template54.npy\n",
      "template13.npy\n",
      "template36.npy\n",
      "template66.npy\n",
      "template4.npy\n",
      "template30.npy\n",
      "template71.npy\n",
      "template29.npy\n",
      "template61.npy\n",
      "template18.npy\n",
      "template37.npy\n",
      "template6.npy\n",
      "template10.npy\n",
      "template26.npy\n",
      "template46.npy\n",
      "template56.npy\n",
      "template20.npy\n",
      "template58.npy\n",
      "template34.npy\n",
      "template7.npy\n",
      "template63.npy\n",
      "template8.npy\n",
      "template73.npy\n",
      "template44.npy\n",
      "template14.npy\n",
      "template64.npy\n",
      "template22.npy\n",
      "template16.npy\n",
      "template5.npy\n",
      "template49.npy\n",
      "template68.npy\n",
      "template15.npy\n",
      "template21.npy\n",
      "template11.npy\n",
      "template28.npy\n",
      "template72.npy\n",
      "template67.npy\n",
      "template59.npy\n",
      "template42.npy\n",
      "template39.npy\n",
      "template3.npy\n",
      "template24.npy\n",
      "template48.npy\n",
      "template12.npy\n",
      "template43.npy\n",
      "template23.npy\n",
      "template38.npy\n",
      "template35.npy\n",
      "template50.npy\n",
      "template25.npy\n",
      "template19.npy\n",
      "template62.npy\n",
      "template53.npy\n",
      "template2.npy\n",
      "template41.npy\n"
     ]
    }
   ],
   "source": [
    "import numpy as np\n",
    "import os\n",
    "from PIL import Image, ImageTk\n",
    "from scipy import ndimage\n",
    "import matplotlib.pyplot as plt\n",
    "\n",
    "templates = []\n",
    "for i in list(os.walk(\"./templates\"))[0][2]:\n",
    "#     try:\n",
    "    print(i)\n",
    "    templates.append(np.load(\"./templates/\" + i))\n",
    "#     except:\n",
    "#         pass"
   ]
  },
  {
   "cell_type": "code",
   "execution_count": 3,
   "metadata": {},
   "outputs": [],
   "source": [
    "array = np.load(\"2small.npy\")[0]"
   ]
  },
  {
   "cell_type": "code",
   "execution_count": 4,
   "metadata": {},
   "outputs": [
    {
     "data": {
      "text/plain": [
       "(16, 16, 5)"
      ]
     },
     "execution_count": 4,
     "metadata": {},
     "output_type": "execute_result"
    },
    {
     "data": {
      "image/png": "[encoded data removed]",
      "text/plain": [
       "<Figure size 432x288 with 1 Axes>"
      ]
     },
     "metadata": {
      "needs_background": "light"
     },
     "output_type": "display_data"
    }
   ],
   "source": [
    "plt.imshow(templates[0][:,:,:3])\n",
    "templates[0].shape"
   ]
  },
  {
   "cell_type": "code",
   "execution_count": 5,
   "metadata": {},
   "outputs": [
    {
     "data": {
      "text/plain": [
       "<matplotlib.image.AxesImage at 0x7feaeeae23c8>"
      ]
     },
     "execution_count": 5,
     "metadata": {},
     "output_type": "execute_result"
    },
    {
     "data": {
      "image/png": "[encoded data removed]",
      "text/plain": [
       "<Figure size 432x288 with 1 Axes>"
      ]
     },
     "metadata": {
      "needs_background": "light"
     },
     "output_type": "display_data"
    }
   ],
   "source": [
    "plt.imshow(templates[0][:,:,4])"
   ]
  },
  {
   "cell_type": "code",
   "execution_count": 6,
   "metadata": {},
   "outputs": [
    {
     "data": {
      "text/plain": [
       "<matplotlib.image.AxesImage at 0x7feaeea4e160>"
      ]
     },
     "execution_count": 6,
     "metadata": {},
     "output_type": "execute_result"
    },
    {
     "data": {
      "image/png": "[encoded data removed]",
      "text/plain": [
       "<Figure size 432x288 with 1 Axes>"
      ]
     },
     "metadata": {
      "needs_background": "light"
     },
     "output_type": "display_data"
    }
   ],
   "source": [
    "plt.imshow(array)\n"
   ]
  },
  {
   "cell_type": "code",
   "execution_count": 7,
   "metadata": {},
   "outputs": [],
   "source": [
    "border_color = (4, 20, 69)"
   ]
  },
  {
   "cell_type": "code",
   "execution_count": 8,
   "metadata": {},
   "outputs": [
    {
     "data": {
      "text/plain": [
       "(224, 240, 3)"
      ]
     },
     "execution_count": 8,
     "metadata": {},
     "output_type": "execute_result"
    }
   ],
   "source": [
    "array.shape"
   ]
  },
  {
   "cell_type": "code",
   "execution_count": 21,
   "metadata": {},
   "outputs": [
    {
     "data": {
      "text/plain": [
       "(254, 270, 3)"
      ]
     },
     "execution_count": 21,
     "metadata": {},
     "output_type": "execute_result"
    }
   ],
   "source": [
    "tempshape = (16, 16, 5)\n",
    "bax = array.shape[0] + (tempshape[0] - 1)*2\n",
    "bay = array.shape[1] + (tempshape[1] - 1)*2\n",
    "big_array = np.zeros((bax, bay, 3))\n",
    "big_array.shape"
   ]
  },
  {
   "cell_type": "code",
   "execution_count": 22,
   "metadata": {},
   "outputs": [
    {
     "data": {
      "text/plain": [
       "dtype('int64')"
      ]
     },
     "execution_count": 22,
     "metadata": {},
     "output_type": "execute_result"
    }
   ],
   "source": [
    "big_array[:,:, :] = border_color\n",
    "big_array = big_array.astype(np.int)\n",
    "big_array.dtype"
   ]
  },
  {
   "cell_type": "code",
   "execution_count": 23,
   "metadata": {},
   "outputs": [],
   "source": [
    "big_array[(tempshape[0] - 1):224+(tempshape[0] - 1),(tempshape[1] - 1):240+(tempshape[1] - 1),:] = array"
   ]
  },
  {
   "cell_type": "code",
   "execution_count": 24,
   "metadata": {},
   "outputs": [
    {
     "data": {
      "text/plain": [
       "<matplotlib.image.AxesImage at 0x7feaee7530f0>"
      ]
     },
     "execution_count": 24,
     "metadata": {},
     "output_type": "execute_result"
    },
    {
     "data": {
      "image/png": "[encoded data removed]",
      "text/plain": [
       "<Figure size 432x288 with 1 Axes>"
      ]
     },
     "metadata": {
      "needs_background": "light"
     },
     "output_type": "display_data"
    }
   ],
   "source": [
    "plt.imshow(big_array)"
   ]
  },
  {
   "cell_type": "code",
   "execution_count": 28,
   "metadata": {},
   "outputs": [],
   "source": [
    "import cv2\n",
    "t0 = templates[0][:,:,:3]\n",
    "res = cv2.matchTemplate(big_array.astype(np.uint8), \n",
    "                        t0.astype(np.uint8), \n",
    "                        cv2.TM_CCORR_NORMED,)"
   ]
  },
  {
   "cell_type": "code",
   "execution_count": 29,
   "metadata": {},
   "outputs": [
    {
     "data": {
      "text/plain": [
       "((239, 255), (254, 270, 3))"
      ]
     },
     "execution_count": 29,
     "metadata": {},
     "output_type": "execute_result"
    }
   ],
   "source": [
    "res.shape, big_array.shape"
   ]
  },
  {
   "cell_type": "code",
   "execution_count": 49,
   "metadata": {},
   "outputs": [
    {
     "data": {
      "text/plain": [
       "(array([ 1.,  2.,  3.,  4.,  5.,  6.,  7.,  8.,  9., 10., 11., 12., 13.,\n",
       "        14., 15., 16., 16., 16., 16., 16., 16., 16., 16., 16., 16., 16.,\n",
       "        16., 16., 16., 16., 16., 16., 16., 16., 16., 16., 16., 16., 16.,\n",
       "        16., 16., 16., 16., 16., 16., 16., 16., 16., 16., 16., 16., 16.,\n",
       "        16., 16., 16., 16., 16., 16., 16., 16., 16., 16., 16., 16., 16.,\n",
       "        16., 16., 16., 16., 16., 16., 16., 16., 16., 16., 16., 16., 16.,\n",
       "        16., 16., 16., 16., 16., 16., 16., 16., 16., 16., 16., 16., 16.,\n",
       "        16., 16., 16., 16., 16., 16., 16., 16., 16., 16., 16., 16., 16.,\n",
       "        16., 16., 16., 16., 16., 16., 16., 16., 16., 16., 16., 16., 16.,\n",
       "        16., 16., 16., 16., 16., 16., 16., 16., 16., 16., 16., 16., 16.,\n",
       "        16., 16., 16., 16., 16., 16., 16., 16., 16., 16., 16., 16., 16.,\n",
       "        16., 16., 16., 16., 16., 16., 16., 16., 16., 16., 16., 16., 16.,\n",
       "        16., 16., 16., 16., 16., 16., 16., 16., 16., 16., 16., 16., 16.,\n",
       "        16., 16., 16., 16., 16., 16., 16., 16., 16., 16., 16., 16., 16.,\n",
       "        16., 16., 16., 16., 16., 16., 16., 16., 16., 16., 16., 16., 16.,\n",
       "        16., 16., 16., 16., 16., 16., 16., 16., 16., 16., 16., 16., 16.,\n",
       "        16., 16., 16., 16., 16., 16., 16., 16., 16., 16., 16., 16., 16.,\n",
       "        16., 16., 16., 16., 16., 16., 16., 16., 16., 16., 16., 16., 16.,\n",
       "        16., 16., 16., 16., 16., 16., 15., 14., 13., 12., 11., 10.,  9.,\n",
       "         8.,  7.,  6.,  5.,  4.,  3.,  2.,  1.]), (255,))"
      ]
     },
     "execution_count": 49,
     "metadata": {},
     "output_type": "execute_result"
    }
   ],
   "source": [
    "a = np.ones(res.shape[0])\n",
    "a*= t0.shape[0]\n",
    "a[:(t0.shape[0]-1)] = range(1,t0.shape[0])\n",
    "a[-(t0.shape[0]-1):] = range(t0.shape[0]-1,0,-1)\n",
    "a, a.shape\n",
    "b = np.ones(res.shape[1])\n",
    "b*= t0.shape[1]\n",
    "b[:(t0.shape[1]-1)] = range(1,t0.shape[1])\n",
    "b[-(t0.shape[1]-1):] = range(t0.shape[1]-1,0,-1)\n",
    "b, b.shape"
   ]
  },
  {
   "cell_type": "code",
   "execution_count": 50,
   "metadata": {},
   "outputs": [
    {
     "name": "stdout",
     "output_type": "stream",
     "text": [
      "(239,) (255,)\n",
      "(239, 1) (255, 1)\n",
      "(239, 255)\n"
     ]
    }
   ],
   "source": [
    "# now just multiply them together :)\n",
    "print(a.shape, b.shape)\n",
    "a = np.expand_dims(a, -1)\n",
    "b = np.expand_dims(b, -1)\n",
    "print(a.shape, b.shape)\n",
    "z = np.matmul(a,b.T)\n",
    "print(z.shape)\n"
   ]
  },
  {
   "cell_type": "code",
   "execution_count": 58,
   "metadata": {},
   "outputs": [],
   "source": [
    "Z=z.max()/z"
   ]
  },
  {
   "cell_type": "code",
   "execution_count": 59,
   "metadata": {},
   "outputs": [
    {
     "data": {
      "text/plain": [
       "<matplotlib.image.AxesImage at 0x7feaeeba91d0>"
      ]
     },
     "execution_count": 59,
     "metadata": {},
     "output_type": "execute_result"
    },
    {
     "data": {
      "image/png": "[encoded data removed]",
      "text/plain": [
       "<Figure size 432x288 with 1 Axes>"
      ]
     },
     "metadata": {
      "needs_background": "light"
     },
     "output_type": "display_data"
    }
   ],
   "source": [
    "plt.imshow(Z*res)"
   ]
  },
  {
   "cell_type": "code",
   "execution_count": 61,
   "metadata": {},
   "outputs": [
    {
     "data": {
      "text/plain": [
       "array([0.2993788 , 0.2906564 , 0.28265443, 0.27527896, 0.26845226,\n",
       "       0.2621095 , 0.25619608, 0.26541805, 0.2652129 , 0.2599429 ,\n",
       "       0.2549751 , 0.25028163, 0.24583817, 0.24162325, 0.23761795,\n",
       "       0.23846653, 0.23846653, 0.23846653, 0.23846653, 0.23846653,\n",
       "       0.23846653, 0.23846653, 0.23846653, 0.23846653, 0.23846653,\n",
       "       0.23846653, 0.23846653, 0.23846653, 0.23846653, 0.23846653,\n",
       "       0.23846653, 0.23846653, 0.23846653, 0.23846653, 0.23846653,\n",
       "       0.23846653, 0.23846653, 0.23846653, 0.23846653, 0.23846653,\n",
       "       0.23846653, 0.23846653, 0.23846653, 0.23846653, 0.23846653,\n",
       "       0.23846653, 0.23846653, 0.23846653, 0.23846653, 0.23846653,\n",
       "       0.23846653, 0.23846653, 0.23846653, 0.23846653, 0.23846655,\n",
       "       0.23846655, 0.23846655, 0.23846658, 0.23846658, 0.23846658,\n",
       "       0.23846658, 0.23846658, 0.23846658, 0.23846659, 0.23846659,\n",
       "       0.23846659, 0.23846659, 0.23846659, 0.23846662, 0.23846662,\n",
       "       0.23846662, 0.23846658, 0.23846658, 0.23846658, 0.23846658,\n",
       "       0.23846658, 0.23846658, 0.23846658, 0.23846655, 0.23846655,\n",
       "       0.23846655, 0.23846653, 0.23846653, 0.23846653, 0.23846653,\n",
       "       0.23846653, 0.23846653, 0.23846653, 0.23846653, 0.23846653,\n",
       "       0.23846653, 0.23846653, 0.23846653, 0.23846653, 0.23846653,\n",
       "       0.23846653, 0.23846653, 0.23846653, 0.23846653, 0.23846653,\n",
       "       0.23846653, 0.23846653, 0.23846653, 0.23846653, 0.23846653,\n",
       "       0.23846653, 0.23846653, 0.23846653, 0.23846655, 0.23846655,\n",
       "       0.23846655, 0.23846655, 0.23846658, 0.23846658, 0.23846658,\n",
       "       0.23846658, 0.23846658, 0.23846658, 0.23846655, 0.23846653,\n",
       "       0.23846655, 0.23846655, 0.23846655, 0.23846653, 0.23846653,\n",
       "       0.23846653, 0.23846653, 0.23846653, 0.23846653, 0.23846653,\n",
       "       0.23846653, 0.23846653, 0.23846653, 0.23846653, 0.23846655,\n",
       "       0.23846655, 0.23846655, 0.23846653, 0.23846653, 0.23846653,\n",
       "       0.23846653, 0.23846655, 0.23846653, 0.23846653, 0.23846653,\n",
       "       0.23846653, 0.23846653, 0.23846653, 0.23846653, 0.23846653,\n",
       "       0.23846653, 0.23846653, 0.23846653, 0.23846653, 0.23846653,\n",
       "       0.23846655, 0.23846653, 0.23846655, 0.23846655, 0.23846655,\n",
       "       0.23846653, 0.23846653, 0.23846653, 0.23846653, 0.23846653,\n",
       "       0.23846653, 0.23846653, 0.23846653, 0.23846653, 0.23846653,\n",
       "       0.23846653, 0.23846653, 0.23846653, 0.23846653, 0.23846652,\n",
       "       0.23846653, 0.23846653, 0.23846653, 0.23846653, 0.23846653,\n",
       "       0.23846653, 0.23846653, 0.23846658, 0.23846658, 0.23846655,\n",
       "       0.23846658, 0.23846658, 0.23846658, 0.23846658, 0.23846658,\n",
       "       0.23846658, 0.23846658, 0.23846658, 0.23846658, 0.23846658,\n",
       "       0.23846658, 0.23846658, 0.23846655, 0.23846655, 0.23846658,\n",
       "       0.23846658, 0.23846658, 0.23846658, 0.23846658, 0.23846658,\n",
       "       0.23846655, 0.23846655, 0.23846655, 0.23846653, 0.23846655,\n",
       "       0.23846653, 0.23846653, 0.23846653, 0.23846655, 0.23846655,\n",
       "       0.23846655, 0.23846653, 0.23846653, 0.23846653, 0.23846653,\n",
       "       0.23846653, 0.23846653, 0.23846653, 0.23846653, 0.23846653,\n",
       "       0.23846653, 0.23846653, 0.23846653, 0.23846653, 0.23846653,\n",
       "       0.23846653, 0.23846653, 0.23846653, 0.23846653, 0.23846653,\n",
       "       0.23846653, 0.23846653, 0.23846653, 0.23846653, 0.23846653,\n",
       "       0.23761795, 0.24162325, 0.24583817, 0.25028163, 0.25497508,\n",
       "       0.25994292, 0.2652129 , 0.25606456, 0.25619605, 0.2621095 ,\n",
       "       0.26845226, 0.27527896, 0.28265443, 0.2906564 , 0.2993788 ],\n",
       "      dtype=float32)"
      ]
     },
     "execution_count": 61,
     "metadata": {},
     "output_type": "execute_result"
    }
   ],
   "source": [
    "res[0]"
   ]
  },
  {
   "cell_type": "code",
   "execution_count": null,
   "metadata": {},
   "outputs": [],
   "source": [
    "#todo change the size of the border px so that it adapts to the size of the object\n",
    "#also, maybe change the color of the border to the avg of that object, or maybe the opposite color"
   ]
  },
  {
   "cell_type": "code",
   "execution_count": null,
   "metadata": {},
   "outputs": [],
   "source": []
  },
  {
   "cell_type": "code",
   "execution_count": null,
   "metadata": {},
   "outputs": [],
   "source": []
  },
  {
   "cell_type": "code",
   "execution_count": null,
   "metadata": {},
   "outputs": [],
   "source": []
  },
  {
   "cell_type": "code",
   "execution_count": null,
   "metadata": {},
   "outputs": [],
   "source": []
  },
  {
   "cell_type": "code",
   "execution_count": null,
   "metadata": {},
   "outputs": [],
   "source": []
  },
  {
   "cell_type": "code",
   "execution_count": 126,
   "metadata": {},
   "outputs": [],
   "source": [
    "big_agray = np.dot(big_array, [.2989,.5870,.1140]).astype(np.uint8)"
   ]
  },
  {
   "cell_type": "code",
   "execution_count": 127,
   "metadata": {},
   "outputs": [
    {
     "data": {
      "text/plain": [
       "((254, 270), dtype('uint8'), 250)"
      ]
     },
     "execution_count": 127,
     "metadata": {},
     "output_type": "execute_result"
    }
   ],
   "source": [
    "big_agray.shape, big_agray.dtype, big_agray.max()"
   ]
  },
  {
   "cell_type": "code",
   "execution_count": 128,
   "metadata": {},
   "outputs": [],
   "source": [
    "big_agray = big_agray[:239,:255]"
   ]
  },
  {
   "cell_type": "code",
   "execution_count": 129,
   "metadata": {},
   "outputs": [
    {
     "data": {
      "text/plain": [
       "((239, 255), (239, 255))"
      ]
     },
     "execution_count": 129,
     "metadata": {},
     "output_type": "execute_result"
    }
   ],
   "source": [
    "big_agray.shape, res.shape"
   ]
  },
  {
   "cell_type": "code",
   "execution_count": 130,
   "metadata": {},
   "outputs": [],
   "source": [
    "res = (res *255).astype(np.uint8)\n",
    "res = np.stack([big_agray,res,res], axis=-1)"
   ]
  },
  {
   "cell_type": "code",
   "execution_count": 131,
   "metadata": {},
   "outputs": [],
   "source": [
    "from PIL import Image\n",
    "# img = Image.fromarray(big_agray.astype(np.uint8),\"RGB\")\n",
    "# img.save('my1.png')\n",
    "img = Image.fromarray(res.astype(np.uint8),\"RGB\")\n",
    "img.save('my2.png')"
   ]
  },
  {
   "cell_type": "code",
   "execution_count": 102,
   "metadata": {},
   "outputs": [
    {
     "data": {
      "text/plain": [
       "(dtype('uint8'), (209, 225, 3, 3))"
      ]
     },
     "execution_count": 102,
     "metadata": {},
     "output_type": "execute_result"
    }
   ],
   "source": [
    "res.dtype, res.shape"
   ]
  },
  {
   "cell_type": "code",
   "execution_count": 107,
   "metadata": {},
   "outputs": [
    {
     "data": {
      "text/plain": [
       "array([[[ 4, 20, 69],\n",
       "        [ 4, 20, 69],\n",
       "        [ 4, 20, 69],\n",
       "        ...,\n",
       "        [ 4, 20, 69],\n",
       "        [ 4, 20, 69],\n",
       "        [ 4, 20, 69]],\n",
       "\n",
       "       [[ 4, 20, 69],\n",
       "        [ 4, 20, 69],\n",
       "        [ 4, 20, 69],\n",
       "        ...,\n",
       "        [ 4, 20, 69],\n",
       "        [ 4, 20, 69],\n",
       "        [ 4, 20, 69]],\n",
       "\n",
       "       [[ 4, 20, 69],\n",
       "        [ 4, 20, 69],\n",
       "        [ 4, 20, 69],\n",
       "        ...,\n",
       "        [ 4, 20, 69],\n",
       "        [ 4, 20, 69],\n",
       "        [ 4, 20, 69]],\n",
       "\n",
       "       ...,\n",
       "\n",
       "       [[ 4, 20, 69],\n",
       "        [ 4, 20, 69],\n",
       "        [ 4, 20, 69],\n",
       "        ...,\n",
       "        [ 4, 20, 69],\n",
       "        [ 4, 20, 69],\n",
       "        [ 4, 20, 69]],\n",
       "\n",
       "       [[ 4, 20, 69],\n",
       "        [ 4, 20, 69],\n",
       "        [ 4, 20, 69],\n",
       "        ...,\n",
       "        [ 4, 20, 69],\n",
       "        [ 4, 20, 69],\n",
       "        [ 4, 20, 69]],\n",
       "\n",
       "       [[ 4, 20, 69],\n",
       "        [ 4, 20, 69],\n",
       "        [ 4, 20, 69],\n",
       "        ...,\n",
       "        [ 4, 20, 69],\n",
       "        [ 4, 20, 69],\n",
       "        [ 4, 20, 69]]])"
      ]
     },
     "execution_count": 107,
     "metadata": {},
     "output_type": "execute_result"
    }
   ],
   "source": [
    "big_array"
   ]
  },
  {
   "cell_type": "code",
   "execution_count": null,
   "metadata": {},
   "outputs": [],
   "source": []
  },
  {
   "cell_type": "code",
   "execution_count": 134,
   "metadata": {},
   "outputs": [
    {
     "name": "stdout",
     "output_type": "stream",
     "text": [
      "[[[ 4 20 69]\n",
      "  [ 4 20 69]\n",
      "  [ 4 20 69]\n",
      "  [ 4 20 69]\n",
      "  [ 4 20 69]\n",
      "  [ 4 20 69]\n",
      "  [ 4 20 69]\n",
      "  [ 4 20 69]\n",
      "  [ 4 20 69]\n",
      "  [ 4 20 69]\n",
      "  [ 4 20 69]\n",
      "  [ 4 20 69]\n",
      "  [ 4 20 69]\n",
      "  [ 4 20 69]\n",
      "  [ 4 20 69]\n",
      "  [ 4 20 69]]\n",
      "\n",
      " [[ 4 20 69]\n",
      "  [ 4 20 69]\n",
      "  [ 4 20 69]\n",
      "  [ 4 20 69]\n",
      "  [ 4 20 69]\n",
      "  [ 4 20 69]\n",
      "  [ 4 20 69]\n",
      "  [ 4 20 69]\n",
      "  [ 4 20 69]\n",
      "  [ 4 20 69]\n",
      "  [ 4 20 69]\n",
      "  [ 4 20 69]\n",
      "  [ 4 20 69]\n",
      "  [ 4 20 69]\n",
      "  [ 4 20 69]\n",
      "  [ 4 20 69]]\n",
      "\n",
      " [[ 4 20 69]\n",
      "  [ 4 20 69]\n",
      "  [ 4 20 69]\n",
      "  [ 4 20 69]\n",
      "  [ 4 20 69]\n",
      "  [ 4 20 69]\n",
      "  [ 4 20 69]\n",
      "  [ 4 20 69]\n",
      "  [ 4 20 69]\n",
      "  [ 4 20 69]\n",
      "  [ 4 20 69]\n",
      "  [ 4 20 69]\n",
      "  [ 4 20 69]\n",
      "  [ 4 20 69]\n",
      "  [ 4 20 69]\n",
      "  [ 4 20 69]]\n",
      "\n",
      " [[ 4 20 69]\n",
      "  [ 4 20 69]\n",
      "  [ 4 20 69]\n",
      "  [ 4 20 69]\n",
      "  [ 4 20 69]\n",
      "  [ 4 20 69]\n",
      "  [ 4 20 69]\n",
      "  [ 4 20 69]\n",
      "  [ 4 20 69]\n",
      "  [ 4 20 69]\n",
      "  [ 4 20 69]\n",
      "  [ 4 20 69]\n",
      "  [ 4 20 69]\n",
      "  [ 4 20 69]\n",
      "  [ 4 20 69]\n",
      "  [ 4 20 69]]\n",
      "\n",
      " [[ 4 20 69]\n",
      "  [ 4 20 69]\n",
      "  [ 4 20 69]\n",
      "  [ 4 20 69]\n",
      "  [ 4 20 69]\n",
      "  [ 4 20 69]\n",
      "  [ 4 20 69]\n",
      "  [ 4 20 69]\n",
      "  [ 4 20 69]\n",
      "  [ 4 20 69]\n",
      "  [ 4 20 69]\n",
      "  [ 4 20 69]\n",
      "  [ 4 20 69]\n",
      "  [ 4 20 69]\n",
      "  [ 4 20 69]\n",
      "  [ 4 20 69]]\n",
      "\n",
      " [[ 4 20 69]\n",
      "  [ 4 20 69]\n",
      "  [ 4 20 69]\n",
      "  [ 4 20 69]\n",
      "  [ 4 20 69]\n",
      "  [ 4 20 69]\n",
      "  [ 4 20 69]\n",
      "  [ 4 20 69]\n",
      "  [ 4 20 69]\n",
      "  [ 4 20 69]\n",
      "  [ 4 20 69]\n",
      "  [ 4 20 69]\n",
      "  [ 4 20 69]\n",
      "  [ 4 20 69]\n",
      "  [ 4 20 69]\n",
      "  [ 4 20 69]]\n",
      "\n",
      " [[ 4 20 69]\n",
      "  [ 4 20 69]\n",
      "  [ 4 20 69]\n",
      "  [ 4 20 69]\n",
      "  [ 4 20 69]\n",
      "  [ 4 20 69]\n",
      "  [ 4 20 69]\n",
      "  [ 4 20 69]\n",
      "  [ 4 20 69]\n",
      "  [ 4 20 69]\n",
      "  [ 4 20 69]\n",
      "  [ 4 20 69]\n",
      "  [ 4 20 69]\n",
      "  [ 4 20 69]\n",
      "  [ 4 20 69]\n",
      "  [ 4 20 69]]\n",
      "\n",
      " [[ 4 20 69]\n",
      "  [ 4 20 69]\n",
      "  [ 4 20 69]\n",
      "  [ 4 20 69]\n",
      "  [ 4 20 69]\n",
      "  [ 4 20 69]\n",
      "  [ 4 20 69]\n",
      "  [ 4 20 69]\n",
      "  [ 4 20 69]\n",
      "  [ 4 20 69]\n",
      "  [ 4 20 69]\n",
      "  [ 4 20 69]\n",
      "  [ 4 20 69]\n",
      "  [ 4 20 69]\n",
      "  [ 4 20 69]\n",
      "  [ 4 20 69]]\n",
      "\n",
      " [[ 4 20 69]\n",
      "  [ 4 20 69]\n",
      "  [ 4 20 69]\n",
      "  [ 4 20 69]\n",
      "  [ 4 20 69]\n",
      "  [ 4 20 69]\n",
      "  [ 4 20 69]\n",
      "  [ 4 20 69]\n",
      "  [ 4 20 69]\n",
      "  [ 4 20 69]\n",
      "  [ 4 20 69]\n",
      "  [ 4 20 69]\n",
      "  [ 4 20 69]\n",
      "  [ 4 20 69]\n",
      "  [ 4 20 69]\n",
      "  [ 4 20 69]]\n",
      "\n",
      " [[ 4 20 69]\n",
      "  [ 4 20 69]\n",
      "  [ 4 20 69]\n",
      "  [ 4 20 69]\n",
      "  [ 4 20 69]\n",
      "  [ 4 20 69]\n",
      "  [ 4 20 69]\n",
      "  [ 4 20 69]\n",
      "  [ 4 20 69]\n",
      "  [ 4 20 69]\n",
      "  [ 4 20 69]\n",
      "  [ 4 20 69]\n",
      "  [ 4 20 69]\n",
      "  [ 4 20 69]\n",
      "  [ 4 20 69]\n",
      "  [ 4 20 69]]\n",
      "\n",
      " [[ 4 20 69]\n",
      "  [ 4 20 69]\n",
      "  [ 4 20 69]\n",
      "  [ 4 20 69]\n",
      "  [ 4 20 69]\n",
      "  [ 4 20 69]\n",
      "  [ 4 20 69]\n",
      "  [ 4 20 69]\n",
      "  [ 4 20 69]\n",
      "  [ 4 20 69]\n",
      "  [ 4 20 69]\n",
      "  [ 4 20 69]\n",
      "  [ 4 20 69]\n",
      "  [ 4 20 69]\n",
      "  [ 4 20 69]\n",
      "  [ 4 20 69]]\n",
      "\n",
      " [[ 4 20 69]\n",
      "  [ 4 20 69]\n",
      "  [ 4 20 69]\n",
      "  [ 4 20 69]\n",
      "  [ 4 20 69]\n",
      "  [ 4 20 69]\n",
      "  [ 4 20 69]\n",
      "  [ 4 20 69]\n",
      "  [ 4 20 69]\n",
      "  [ 4 20 69]\n",
      "  [ 4 20 69]\n",
      "  [ 4 20 69]\n",
      "  [ 4 20 69]\n",
      "  [ 4 20 69]\n",
      "  [ 4 20 69]\n",
      "  [ 4 20 69]]\n",
      "\n",
      " [[ 4 20 69]\n",
      "  [ 4 20 69]\n",
      "  [ 4 20 69]\n",
      "  [ 4 20 69]\n",
      "  [ 4 20 69]\n",
      "  [ 4 20 69]\n",
      "  [ 4 20 69]\n",
      "  [ 4 20 69]\n",
      "  [ 4 20 69]\n",
      "  [ 4 20 69]\n",
      "  [ 4 20 69]\n",
      "  [ 4 20 69]\n",
      "  [ 4 20 69]\n",
      "  [ 4 20 69]\n",
      "  [ 4 20 69]\n",
      "  [ 4 20 69]]\n",
      "\n",
      " [[ 4 20 69]\n",
      "  [ 4 20 69]\n",
      "  [ 4 20 69]\n",
      "  [ 4 20 69]\n",
      "  [ 4 20 69]\n",
      "  [ 4 20 69]\n",
      "  [ 4 20 69]\n",
      "  [ 4 20 69]\n",
      "  [ 4 20 69]\n",
      "  [ 4 20 69]\n",
      "  [ 4 20 69]\n",
      "  [ 4 20 69]\n",
      "  [ 4 20 69]\n",
      "  [ 4 20 69]\n",
      "  [ 4 20 69]\n",
      "  [ 4 20 69]]\n",
      "\n",
      " [[ 4 20 69]\n",
      "  [ 4 20 69]\n",
      "  [ 4 20 69]\n",
      "  [ 4 20 69]\n",
      "  [ 4 20 69]\n",
      "  [ 4 20 69]\n",
      "  [ 4 20 69]\n",
      "  [ 4 20 69]\n",
      "  [ 4 20 69]\n",
      "  [ 4 20 69]\n",
      "  [ 4 20 69]\n",
      "  [ 4 20 69]\n",
      "  [ 4 20 69]\n",
      "  [ 4 20 69]\n",
      "  [ 4 20 69]\n",
      "  [ 4 20 69]]\n",
      "\n",
      " [[ 4 20 69]\n",
      "  [ 4 20 69]\n",
      "  [ 4 20 69]\n",
      "  [ 4 20 69]\n",
      "  [ 4 20 69]\n",
      "  [ 4 20 69]\n",
      "  [ 4 20 69]\n",
      "  [ 4 20 69]\n",
      "  [ 4 20 69]\n",
      "  [ 4 20 69]\n",
      "  [ 4 20 69]\n",
      "  [ 4 20 69]\n",
      "  [ 4 20 69]\n",
      "  [ 4 20 69]\n",
      "  [ 4 20 69]\n",
      "  [ 4 20 69]]]\n"
     ]
    }
   ],
   "source": [
    "test = np.zeros(t0.shape).astype(np.int)\n",
    "test[:] = border_color\n",
    "print(test)"
   ]
  },
  {
   "cell_type": "code",
   "execution_count": 135,
   "metadata": {},
   "outputs": [
    {
     "data": {
      "text/plain": [
       "(16, 16, 3)"
      ]
     },
     "execution_count": 135,
     "metadata": {},
     "output_type": "execute_result"
    }
   ],
   "source": [
    "test.shape"
   ]
  },
  {
   "cell_type": "code",
   "execution_count": 143,
   "metadata": {},
   "outputs": [
    {
     "data": {
      "image/png": "[encoded data removed]",
      "text/plain": [
       "<Figure size 432x288 with 56 Axes>"
      ]
     },
     "metadata": {
      "needs_background": "light"
     },
     "output_type": "display_data"
    }
   ],
   "source": [
    "f, axarr = plt.subplots(4,14)\n",
    "edges = []\n",
    "t0 = templates[0][:,:,:3]\n",
    "xdir = templates[0].shape[0]\n",
    "ydir = templates[0].shape[1]\n",
    "for i in range(1,xdir-1):\n",
    "    j = test.copy()\n",
    "    j[i:,:,:] = t0[i:,:,:]\n",
    "    axarr[0,i-1].imshow(j)\n",
    "    axarr[0,i-1].axis('off')\n",
    "    edges.append(j)\n",
    "for i in range(2,ydir):\n",
    "    j = test.copy()\n",
    "    j[:,:i,:] = t0[:,:i,:]\n",
    "    axarr[1,i-2].imshow(j)\n",
    "    axarr[1,i-2].axis('off')\n",
    "    edges.append(j)\n",
    "for i in range(2,xdir):\n",
    "    j = test.copy()\n",
    "    j[:i,:,:] = t0[:i,:,:]\n",
    "    axarr[2,i-2].imshow(j)\n",
    "    axarr[2,i-2].axis('off')\n",
    "    edges.append(j)\n",
    "for i in range(1,ydir-1):\n",
    "    j = test.copy()\n",
    "    j[:,i:,:] = t0[:,i:,:]\n",
    "    axarr[3,i-1].imshow(j)\n",
    "    axarr[3,i-1].axis('off')\n",
    "    edges.append(j)\n",
    "    "
   ]
  },
  {
   "cell_type": "code",
   "execution_count": 141,
   "metadata": {},
   "outputs": [
    {
     "data": {
      "text/plain": [
       "array([[0.3022829]], dtype=float32)"
      ]
     },
     "execution_count": 141,
     "metadata": {},
     "output_type": "execute_result"
    }
   ],
   "source": [
    "cv2.matchTemplate(test.astype(np.uint8), \n",
    "                        t0.astype(np.uint8), \n",
    "                        cv2.TM_CCORR_NORMED,)"
   ]
  },
  {
   "cell_type": "code",
   "execution_count": 144,
   "metadata": {},
   "outputs": [
    {
     "data": {
      "text/plain": [
       "array([[0.710527]], dtype=float32)"
      ]
     },
     "execution_count": 144,
     "metadata": {},
     "output_type": "execute_result"
    }
   ],
   "source": [
    "cv2.matchTemplate(edges[7].astype(np.uint8), \n",
    "                        t0.astype(np.uint8), \n",
    "                        cv2.TM_CCORR_NORMED,)"
   ]
  },
  {
   "cell_type": "code",
   "execution_count": null,
   "metadata": {},
   "outputs": [],
   "source": []
  },
  {
   "cell_type": "code",
   "execution_count": 145,
   "metadata": {},
   "outputs": [
    {
     "name": "stdout",
     "output_type": "stream",
     "text": [
      "(16, 16, 5)\n",
      "(16, 11, 5)\n",
      "(16, 16, 5)\n",
      "(16, 16, 5)\n",
      "(16, 16, 5)\n",
      "(9, 9, 5)\n",
      "(16, 11, 5)\n",
      "(16, 16, 5)\n",
      "(16, 11, 5)\n",
      "(32, 32, 5)\n",
      "(16, 11, 5)\n",
      "(16, 11, 5)\n",
      "(16, 16, 5)\n",
      "(16, 16, 5)\n",
      "(8, 5, 5)\n",
      "(16, 16, 5)\n",
      "(16, 11, 5)\n",
      "(16, 11, 5)\n",
      "(16, 16, 5)\n",
      "(16, 16, 5)\n",
      "(16, 16, 5)\n",
      "(9, 9, 5)\n",
      "(16, 16, 5)\n",
      "(16, 16, 5)\n",
      "(16, 16, 5)\n",
      "(16, 16, 5)\n",
      "(9, 8, 5)\n",
      "(16, 16, 5)\n",
      "(9, 9, 5)\n",
      "(7, 7, 5)\n",
      "(24, 64, 5)\n",
      "(16, 11, 5)\n",
      "(16, 11, 5)\n",
      "(9, 8, 5)\n",
      "(16, 16, 5)\n",
      "(16, 16, 5)\n",
      "(9, 9, 5)\n",
      "(16, 16, 5)\n",
      "(24, 32, 5)\n",
      "(16, 16, 5)\n",
      "(16, 11, 5)\n",
      "(16, 16, 5)\n",
      "(16, 16, 5)\n",
      "(9, 8, 5)\n",
      "(16, 16, 5)\n",
      "(9, 8, 5)\n",
      "(16, 11, 5)\n",
      "(16, 16, 5)\n",
      "(16, 16, 5)\n",
      "(4, 8, 5)\n",
      "(16, 16, 5)\n",
      "(16, 16, 5)\n",
      "(16, 16, 5)\n",
      "(16, 16, 5)\n",
      "(16, 16, 5)\n",
      "(16, 11, 5)\n",
      "(32, 32, 5)\n",
      "(9, 9, 5)\n",
      "(9, 9, 5)\n",
      "(16, 11, 5)\n",
      "(16, 16, 5)\n",
      "(16, 11, 5)\n",
      "(9, 9, 5)\n",
      "(32, 32, 5)\n",
      "(16, 16, 5)\n",
      "(16, 11, 5)\n",
      "(9, 9, 5)\n",
      "(9, 9, 5)\n",
      "(16, 16, 5)\n",
      "(16, 11, 5)\n",
      "(9, 9, 5)\n",
      "(16, 32, 5)\n"
     ]
    }
   ],
   "source": [
    "for x in templates:\n",
    "    print(x.shape)"
   ]
  },
  {
   "cell_type": "code",
   "execution_count": null,
   "metadata": {},
   "outputs": [],
   "source": []
  },
  {
   "cell_type": "code",
   "execution_count": null,
   "metadata": {},
   "outputs": [],
   "source": [
    "# speed tip: build a template hierarchy"
   ]
  }
 ],
 "metadata": {
  "kernelspec": {
   "display_name": "Python 3",
   "language": "python",
   "name": "python3"
  },
  "language_info": {
   "codemirror_mode": {
    "name": "ipython",
    "version": 3
   },
   "file_extension": ".py",
   "mimetype": "text/x-python",
   "name": "python",
   "nbconvert_exporter": "python",
   "pygments_lexer": "ipython3",
   "version": "3.6.10"
  }
 },
 "nbformat": 4,
 "nbformat_minor": 2
}
